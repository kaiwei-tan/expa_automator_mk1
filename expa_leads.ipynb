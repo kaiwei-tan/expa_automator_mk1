{
 "cells": [
  {
   "cell_type": "code",
   "execution_count": 1,
   "metadata": {},
   "outputs": [],
   "source": [
    "import pandas as pd\n",
    "import ast"
   ]
  },
  {
   "cell_type": "code",
   "execution_count": 2,
   "metadata": {
    "scrolled": false
   },
   "outputs": [],
   "source": [
    "# Importing raw data\n",
    "\n",
    "with open(\"2018_ep_demo.txt\", encoding='utf-8-sig') as f:                    # Change the file name here if necessary\n",
    "    data = ast.literal_eval(f.read())"
   ]
  },
  {
   "cell_type": "code",
   "execution_count": 3,
   "metadata": {},
   "outputs": [
    {
     "name": "stdout",
     "output_type": "stream",
     "text": [
      "Found 1 accounts.\n"
     ]
    },
    {
     "data": {
      "text/plain": [
       "[{'full_name': 'Steve Rogers',\n",
       "  'profile_photo': 'https://s3-eu-west-1.amazonaws.com/cdn.expa.aiesec.org/gis-img/missing_profile_s.svg',\n",
       "  'email': 'captain_america@inbound.aiesec.org',\n",
       "  'status': 'applied',\n",
       "  'created_at': '2018-12-31T00:00:00Z',\n",
       "  'managed_opportunities_count': 0,\n",
       "  'managed_opportunities': {'edges': []},\n",
       "  'managers': [{'full_name': 'Peggy Carter',\n",
       "    'profile_photo': 'https://s3-eu-west-1.amazonaws.com/cdn.expa.aiesec.org/gis-img/missing_profile_s.svg',\n",
       "    'id': '0000001',\n",
       "    'email': 'agent_carter@inbound.aiesec.org'}],\n",
       "  'current_experiences': [],\n",
       "  'phone': '12345678',\n",
       "  'id': '0000000',\n",
       "  'first_name': 'Steve',\n",
       "  'last_name': 'Rogers',\n",
       "  'dob': '1918-07-04',\n",
       "  'permissions': {'can_update': 'true'},\n",
       "  'person_profile': {'selected_programmes': [5, 1], 'id': '0000000'},\n",
       "  'organisation_type': 'null',\n",
       "  'referral_type': 'Friend'}]"
      ]
     },
     "execution_count": 3,
     "metadata": {},
     "output_type": "execute_result"
    }
   ],
   "source": [
    "ep_count_start = len(data)\n",
    "print('Found %d accounts.' % (ep_count_start))\n",
    "\n",
    "data"
   ]
  },
  {
   "cell_type": "code",
   "execution_count": 4,
   "metadata": {},
   "outputs": [],
   "source": [
    "# Removing unneeded columns\n",
    "\n",
    "remove = (\"current_experiences\",\"first_name\",\"last_name\",\"managed_opportunities\",\"managed_opportunities_count\",\n",
    "          \"organisation_type\",\"permissions\",\"profile_photo\")\n",
    "for i in range(len(data)):\n",
    "    for key in remove:\n",
    "        data[i].pop(key)"
   ]
  },
  {
   "cell_type": "code",
   "execution_count": 5,
   "metadata": {},
   "outputs": [],
   "source": [
    "# Cleaning up selected programme data\n",
    "for i in range(len(data)):\n",
    "    prog_list = []\n",
    "    if data[i]['person_profile'] != 'null':\n",
    "        for j in range(len(data[i]['person_profile']['selected_programmes'])):\n",
    "            prog_list.append(str(data[i]['person_profile']['selected_programmes'][j]))\n",
    "    prog = \",\".join(prog_list)\n",
    "    prog = prog.replace('1', 'GV')\n",
    "    prog = prog.replace('2', 'GT')\n",
    "    prog = prog.replace('5', 'GE')\n",
    "    data[i]['person_profile'] = prog"
   ]
  },
  {
   "cell_type": "code",
   "execution_count": 6,
   "metadata": {},
   "outputs": [],
   "source": [
    "# Cleaning up EP manager data\n",
    "\n",
    "for i in range(len(data)):\n",
    "    epm_list = []\n",
    "    for j in range(len(data[i]['managers'])):\n",
    "        epm_list.append(data[i]['managers'][j]['full_name'])\n",
    "    epm = \", \".join(epm_list)\n",
    "    data[i]['managers'] = epm"
   ]
  },
  {
   "cell_type": "code",
   "execution_count": 7,
   "metadata": {},
   "outputs": [],
   "source": [
    "# Cleaning up empty date of birth and phone number data\n",
    "\n",
    "for i in range(len(data)):\n",
    "    dob = data[i]['dob']\n",
    "    if dob == 'null':\n",
    "        dob = dob.replace('null', '')\n",
    "        data[i]['dob'] = dob\n",
    "    phone = data[i]['phone']\n",
    "    if phone == 'null':\n",
    "        phone = phone.replace('null', '')\n",
    "        data[i]['phone'] = phone\n",
    "    else: \n",
    "        phone = str(phone)\n",
    "        data[i]['phone'] = phone"
   ]
  },
  {
   "cell_type": "code",
   "execution_count": 8,
   "metadata": {},
   "outputs": [],
   "source": [
    "# Cleaning up account creation date data\n",
    "\n",
    "for i in range(len(data)):\n",
    "    data[i]['created_at'] = data[i]['created_at'][:10]"
   ]
  },
  {
   "cell_type": "code",
   "execution_count": 9,
   "metadata": {},
   "outputs": [],
   "source": [
    "# Converting all data into DataFrame\n",
    "\n",
    "EP_Data = pd.DataFrame(data)"
   ]
  },
  {
   "cell_type": "code",
   "execution_count": 10,
   "metadata": {},
   "outputs": [
    {
     "name": "stdout",
     "output_type": "stream",
     "text": [
      "0 deleted accounts removed.\n"
     ]
    }
   ],
   "source": [
    "# Removing deleted accounts\n",
    "\n",
    "for i in range(len(data)):\n",
    "    if EP_Data['status'][i] == 'deleted':\n",
    "        EP_Data = EP_Data.drop([i], axis=0)\n",
    "\n",
    "EP_Data = EP_Data.reset_index()\n",
    "ep_count_new = len(EP_Data)\n",
    "deleted_count = ep_count_start - ep_count_new\n",
    "print('%d deleted accounts removed.' % (deleted_count))"
   ]
  },
  {
   "cell_type": "code",
   "execution_count": 11,
   "metadata": {},
   "outputs": [],
   "source": [
    "# Rearranging and tidying up the columns (OCD lol)\n",
    "\n",
    "EP_Data = EP_Data[['id','status','full_name','person_profile','managers','phone','email','dob','referral_type','created_at']]\n",
    "\n",
    "rename = {'id':'EP_ID',\n",
    "          'status':'Status',\n",
    "          'full_name':'Name',\n",
    "          'person_profile':'Interested',\n",
    "          'managers': 'Managers',\n",
    "          'phone':'Phone',\n",
    "          'email':'Email',\n",
    "          'dob':'Birthdate',\n",
    "          'referral_type':'Referral',\n",
    "          'created_at':'Created'}\n",
    "\n",
    "EP_Data.rename(columns=rename, inplace=True) "
   ]
  },
  {
   "cell_type": "code",
   "execution_count": 12,
   "metadata": {},
   "outputs": [
    {
     "name": "stdout",
     "output_type": "stream",
     "text": [
      "EP Count: 1\n"
     ]
    }
   ],
   "source": [
    "print('EP Count: %d' % (ep_count_new))"
   ]
  },
  {
   "cell_type": "code",
   "execution_count": 13,
   "metadata": {},
   "outputs": [
    {
     "data": {
      "text/html": [
       "<div>\n",
       "<style scoped>\n",
       "    .dataframe tbody tr th:only-of-type {\n",
       "        vertical-align: middle;\n",
       "    }\n",
       "\n",
       "    .dataframe tbody tr th {\n",
       "        vertical-align: top;\n",
       "    }\n",
       "\n",
       "    .dataframe thead th {\n",
       "        text-align: right;\n",
       "    }\n",
       "</style>\n",
       "<table border=\"1\" class=\"dataframe\">\n",
       "  <thead>\n",
       "    <tr style=\"text-align: right;\">\n",
       "      <th></th>\n",
       "      <th>EP_ID</th>\n",
       "      <th>Status</th>\n",
       "      <th>Name</th>\n",
       "      <th>Interested</th>\n",
       "      <th>Managers</th>\n",
       "      <th>Phone</th>\n",
       "      <th>Email</th>\n",
       "      <th>Birthdate</th>\n",
       "      <th>Referral</th>\n",
       "      <th>Created</th>\n",
       "    </tr>\n",
       "  </thead>\n",
       "  <tbody>\n",
       "    <tr>\n",
       "      <th>0</th>\n",
       "      <td>0000000</td>\n",
       "      <td>applied</td>\n",
       "      <td>Steve Rogers</td>\n",
       "      <td>GE,GV</td>\n",
       "      <td>Peggy Carter</td>\n",
       "      <td>12345678</td>\n",
       "      <td>captain_america@inbound.aiesec.org</td>\n",
       "      <td>1918-07-04</td>\n",
       "      <td>Friend</td>\n",
       "      <td>2018-12-31</td>\n",
       "    </tr>\n",
       "  </tbody>\n",
       "</table>\n",
       "</div>"
      ],
      "text/plain": [
       "     EP_ID   Status          Name Interested      Managers     Phone  \\\n",
       "0  0000000  applied  Steve Rogers      GE,GV  Peggy Carter  12345678   \n",
       "\n",
       "                                Email   Birthdate Referral     Created  \n",
       "0  captain_america@inbound.aiesec.org  1918-07-04   Friend  2018-12-31  "
      ]
     },
     "execution_count": 13,
     "metadata": {},
     "output_type": "execute_result"
    }
   ],
   "source": [
    "# Export to Excel\n",
    "#EP_Data.to_excel(\"EXPA.xlsx\")\n",
    "EP_Data"
   ]
  },
  {
   "cell_type": "code",
   "execution_count": 14,
   "metadata": {},
   "outputs": [],
   "source": [
    "# Export to CSV\n",
    "#EP_Data.to_csv(\"EXPA.csv\")"
   ]
  }
 ],
 "metadata": {
  "kernelspec": {
   "display_name": "Python 3",
   "language": "python",
   "name": "python3"
  },
  "language_info": {
   "codemirror_mode": {
    "name": "ipython",
    "version": 3
   },
   "file_extension": ".py",
   "mimetype": "text/x-python",
   "name": "python",
   "nbconvert_exporter": "python",
   "pygments_lexer": "ipython3",
   "version": "3.6.5"
  }
 },
 "nbformat": 4,
 "nbformat_minor": 2
}
